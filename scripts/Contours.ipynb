{
 "cells": [
  {
   "cell_type": "code",
   "execution_count": 1,
   "metadata": {},
   "outputs": [],
   "source": [
    "%matplotlib inline\n",
    "import sys\n",
    "import numpy as np\n",
    "import matplotlib.pyplot as plt\n",
    "from matplotlib.gridspec import GridSpec\n",
    "import warnings"
   ]
  },
  {
   "cell_type": "code",
   "execution_count": 23,
   "metadata": {},
   "outputs": [],
   "source": [
    "from pathlib import Path\n",
    "from astropy import units as u\n",
    "from astropy.coordinates import SkyCoord\n",
    "from gammapy.maps import WcsGeom, MapAxis, Map\n",
    "from gammapy.makers import MapDatasetMaker, SafeMaskMaker\n",
    "from gammapy.data import DataStore\n",
    "from gammapy.datasets import Datasets, FluxPointsDataset\n",
    "from gammapy.modeling import Fit\n",
    "from gammapy.modeling.models import SkyModel, LogParabolaSpectralModel, PointSpatialModel, ConstantSpatialModel\n",
    "from gammapy.irf import EDispKernel, PSFMap, PSFKernel\n",
    "from gammapy.datasets import Datasets, MapDataset\n",
    "from regions import CircleSkyRegion, RectangleSkyRegion\n",
    "from hawc_dataset import HAWCMapDataset\n",
    "from itertools import combinations\n",
    "from gammapy.visualization.utils import plot_contour_line\n",
    "from gammapy.estimators import (\n",
    "    FluxPoints,\n",
    "    FluxPointsEstimator,\n",
    ")\n",
    "import matplotlib.patches as mpatches"
   ]
  },
  {
   "cell_type": "markdown",
   "metadata": {},
   "source": [
    "#### hawc analysis"
   ]
  },
  {
   "cell_type": "code",
   "execution_count": 3,
   "metadata": {},
   "outputs": [],
   "source": [
    "spatial_model_hawc = PointSpatialModel(\n",
    "    lon_0=\"83.63 deg\",\n",
    "    lat_0=\"22.01 deg\",\n",
    "    frame=\"icrs\"\n",
    ")\n",
    "\n",
    "spectral_model_hawc = LogParabolaSpectralModel(\n",
    "        amplitude=\"2.6e-13 TeV-1 cm-2 s-1\",\n",
    "        alpha=2.65,\n",
    "        beta=0.1,\n",
    "        reference=\"7 TeV\"\n",
    ")\n",
    "\n",
    "spectral_model_hawc.amplitude.error = \"0.07e-13 TeV-1 cm-2 s-1\"\n",
    "spectral_model_hawc.beta.error = 0.015\n",
    "spectral_model_hawc.alpha.error = 0.019\n",
    "\n",
    "model_hawc = SkyModel(spatial_model=spatial_model_hawc, spectral_model=spectral_model_hawc, name='crab hawc')"
   ]
  },
  {
   "cell_type": "code",
   "execution_count": 4,
   "metadata": {},
   "outputs": [
    {
     "name": "stdout",
     "output_type": "stream",
     "text": [
      "CPU times: user 51.7 s, sys: 1.3 s, total: 53 s\n",
      "Wall time: 1min 8s\n"
     ]
    }
   ],
   "source": [
    "%%time\n",
    "datasets_hawc = []\n",
    "for i in range(1,10):\n",
    "    dataset =  HAWCMapDataset.read('gammapy_dataset_var_energy/hawc/crab-{}nHitBin.fits.gz'.format(i))\n",
    "    dataset.models.append(model_hawc)\n",
    "    dataset.background_model.spectral_model.norm.frozen = True\n",
    "    datasets_hawc.append(dataset)"
   ]
  },
  {
   "cell_type": "code",
   "execution_count": 5,
   "metadata": {},
   "outputs": [],
   "source": [
    "fit_hawc = Fit(datasets_hawc)"
   ]
  },
  {
   "cell_type": "code",
   "execution_count": 6,
   "metadata": {},
   "outputs": [
    {
     "name": "stdout",
     "output_type": "stream",
     "text": [
      "CPU times: user 2min 30s, sys: 2.94 s, total: 2min 33s\n",
      "Wall time: 2min 47s\n"
     ]
    }
   ],
   "source": [
    "%%time\n",
    "#minuit_opts = {\"tol\": 100, \"strategy\": 0}\n",
    "#result_hawc = fit_hawc.run(backend=\"minuit\", optimize_opts=minuit_opts)\n",
    "result_hawc = fit_hawc.run()"
   ]
  },
  {
   "cell_type": "code",
   "execution_count": 7,
   "metadata": {},
   "outputs": [
    {
     "data": {
      "text/html": [
       "<i>Table length=33</i>\n",
       "<table id=\"table139751480225016-685410\" class=\"table-striped table-bordered table-condensed\">\n",
       "<thead><tr><th>idx</th><th>name</th><th>value</th><th>unit</th><th>min</th><th>max</th><th>frozen</th><th>error</th></tr></thead>\n",
       "<tr><td>0</td><td>norm</td><td>1.0000e+00</td><td></td><td>nan</td><td>nan</td><td>True</td><td>0.000e+00</td></tr>\n",
       "<tr><td>1</td><td>tilt</td><td>0.0000e+00</td><td></td><td>nan</td><td>nan</td><td>True</td><td>0.000e+00</td></tr>\n",
       "<tr><td>2</td><td>reference</td><td>1.0000e+00</td><td>TeV</td><td>nan</td><td>nan</td><td>True</td><td>0.000e+00</td></tr>\n",
       "<tr><td>3</td><td>amplitude</td><td>2.2585e-13</td><td>cm-2 s-1 TeV-1</td><td>nan</td><td>nan</td><td>False</td><td>3.652e-15</td></tr>\n",
       "<tr><td>4</td><td>reference</td><td>7.0000e+00</td><td>TeV</td><td>nan</td><td>nan</td><td>True</td><td>0.000e+00</td></tr>\n",
       "<tr><td>5</td><td>alpha</td><td>2.7758e+00</td><td></td><td>nan</td><td>nan</td><td>False</td><td>1.653e-02</td></tr>\n",
       "<tr><td>6</td><td>beta</td><td>8.8430e-02</td><td></td><td>nan</td><td>nan</td><td>False</td><td>7.076e-03</td></tr>\n",
       "<tr><td>7</td><td>lon_0</td><td>8.3632e+01</td><td>deg</td><td>nan</td><td>nan</td><td>False</td><td>1.998e-03</td></tr>\n",
       "<tr><td>8</td><td>lat_0</td><td>2.2021e+01</td><td>deg</td><td>-9.000e+01</td><td>9.000e+01</td><td>False</td><td>1.532e-03</td></tr>\n",
       "<tr><td>9</td><td>norm</td><td>1.0000e+00</td><td></td><td>nan</td><td>nan</td><td>True</td><td>0.000e+00</td></tr>\n",
       "<tr><td>10</td><td>tilt</td><td>0.0000e+00</td><td></td><td>nan</td><td>nan</td><td>True</td><td>0.000e+00</td></tr>\n",
       "<tr><td>11</td><td>reference</td><td>1.0000e+00</td><td>TeV</td><td>nan</td><td>nan</td><td>True</td><td>0.000e+00</td></tr>\n",
       "<tr><td>12</td><td>norm</td><td>1.0000e+00</td><td></td><td>nan</td><td>nan</td><td>True</td><td>0.000e+00</td></tr>\n",
       "<tr><td>13</td><td>tilt</td><td>0.0000e+00</td><td></td><td>nan</td><td>nan</td><td>True</td><td>0.000e+00</td></tr>\n",
       "<tr><td>14</td><td>reference</td><td>1.0000e+00</td><td>TeV</td><td>nan</td><td>nan</td><td>True</td><td>0.000e+00</td></tr>\n",
       "<tr><td>15</td><td>norm</td><td>1.0000e+00</td><td></td><td>nan</td><td>nan</td><td>True</td><td>0.000e+00</td></tr>\n",
       "<tr><td>16</td><td>tilt</td><td>0.0000e+00</td><td></td><td>nan</td><td>nan</td><td>True</td><td>0.000e+00</td></tr>\n",
       "<tr><td>17</td><td>reference</td><td>1.0000e+00</td><td>TeV</td><td>nan</td><td>nan</td><td>True</td><td>0.000e+00</td></tr>\n",
       "<tr><td>18</td><td>norm</td><td>1.0000e+00</td><td></td><td>nan</td><td>nan</td><td>True</td><td>0.000e+00</td></tr>\n",
       "<tr><td>19</td><td>tilt</td><td>0.0000e+00</td><td></td><td>nan</td><td>nan</td><td>True</td><td>0.000e+00</td></tr>\n",
       "<tr><td>20</td><td>reference</td><td>1.0000e+00</td><td>TeV</td><td>nan</td><td>nan</td><td>True</td><td>0.000e+00</td></tr>\n",
       "<tr><td>21</td><td>norm</td><td>1.0000e+00</td><td></td><td>nan</td><td>nan</td><td>True</td><td>0.000e+00</td></tr>\n",
       "<tr><td>22</td><td>tilt</td><td>0.0000e+00</td><td></td><td>nan</td><td>nan</td><td>True</td><td>0.000e+00</td></tr>\n",
       "<tr><td>23</td><td>reference</td><td>1.0000e+00</td><td>TeV</td><td>nan</td><td>nan</td><td>True</td><td>0.000e+00</td></tr>\n",
       "<tr><td>24</td><td>norm</td><td>1.0000e+00</td><td></td><td>nan</td><td>nan</td><td>True</td><td>0.000e+00</td></tr>\n",
       "<tr><td>25</td><td>tilt</td><td>0.0000e+00</td><td></td><td>nan</td><td>nan</td><td>True</td><td>0.000e+00</td></tr>\n",
       "<tr><td>26</td><td>reference</td><td>1.0000e+00</td><td>TeV</td><td>nan</td><td>nan</td><td>True</td><td>0.000e+00</td></tr>\n",
       "<tr><td>27</td><td>norm</td><td>1.0000e+00</td><td></td><td>nan</td><td>nan</td><td>True</td><td>0.000e+00</td></tr>\n",
       "<tr><td>28</td><td>tilt</td><td>0.0000e+00</td><td></td><td>nan</td><td>nan</td><td>True</td><td>0.000e+00</td></tr>\n",
       "<tr><td>29</td><td>reference</td><td>1.0000e+00</td><td>TeV</td><td>nan</td><td>nan</td><td>True</td><td>0.000e+00</td></tr>\n",
       "<tr><td>30</td><td>norm</td><td>1.0000e+00</td><td></td><td>nan</td><td>nan</td><td>True</td><td>0.000e+00</td></tr>\n",
       "<tr><td>31</td><td>tilt</td><td>0.0000e+00</td><td></td><td>nan</td><td>nan</td><td>True</td><td>0.000e+00</td></tr>\n",
       "<tr><td>32</td><td>reference</td><td>1.0000e+00</td><td>TeV</td><td>nan</td><td>nan</td><td>True</td><td>0.000e+00</td></tr>\n",
       "</table><style>table.dataTable {clear: both; width: auto !important; margin: 0 !important;}\n",
       ".dataTables_info, .dataTables_length, .dataTables_filter, .dataTables_paginate{\n",
       "display: inline-block; margin-right: 1em; }\n",
       ".paginate_button { margin-right: 5px; }\n",
       "</style>\n",
       "<script>\n",
       "\n",
       "var astropy_sort_num = function(a, b) {\n",
       "    var a_num = parseFloat(a);\n",
       "    var b_num = parseFloat(b);\n",
       "\n",
       "    if (isNaN(a_num) && isNaN(b_num))\n",
       "        return ((a < b) ? -1 : ((a > b) ? 1 : 0));\n",
       "    else if (!isNaN(a_num) && !isNaN(b_num))\n",
       "        return ((a_num < b_num) ? -1 : ((a_num > b_num) ? 1 : 0));\n",
       "    else\n",
       "        return isNaN(a_num) ? -1 : 1;\n",
       "}\n",
       "\n",
       "require.config({paths: {\n",
       "    datatables: 'https://cdn.datatables.net/1.10.12/js/jquery.dataTables.min'\n",
       "}});\n",
       "require([\"datatables\"], function(){\n",
       "    console.log(\"$('#table139751480225016-685410').dataTable()\");\n",
       "    \n",
       "jQuery.extend( jQuery.fn.dataTableExt.oSort, {\n",
       "    \"optionalnum-asc\": astropy_sort_num,\n",
       "    \"optionalnum-desc\": function (a,b) { return -astropy_sort_num(a, b); }\n",
       "});\n",
       "\n",
       "    $('#table139751480225016-685410').dataTable({\n",
       "        order: [],\n",
       "        pageLength: 50,\n",
       "        lengthMenu: [[10, 25, 50, 100, 500, 1000, -1], [10, 25, 50, 100, 500, 1000, 'All']],\n",
       "        pagingType: \"full_numbers\",\n",
       "        columnDefs: [{targets: [0, 2, 4, 5, 7], type: \"optionalnum\"}]\n",
       "    });\n",
       "});\n",
       "</script>\n"
      ],
      "text/plain": [
       "<IPython.core.display.HTML object>"
      ]
     },
     "execution_count": 7,
     "metadata": {},
     "output_type": "execute_result"
    }
   ],
   "source": [
    "result_hawc.parameters.to_table().show_in_notebook()"
   ]
  },
  {
   "cell_type": "markdown",
   "metadata": {},
   "source": [
    "#### hess analysis"
   ]
  },
  {
   "cell_type": "code",
   "execution_count": 9,
   "metadata": {},
   "outputs": [],
   "source": [
    "spatial_model_hess = PointSpatialModel(\n",
    "    lon_0=\"83.63 deg\",\n",
    "    lat_0=\"22.01 deg\",\n",
    "    frame=\"icrs\"\n",
    ")\n",
    "\n",
    "spectral_model_hess = LogParabolaSpectralModel(\n",
    "        amplitude=\"2.6e-13 TeV-1 cm-2 s-1\",\n",
    "        alpha=2.65,\n",
    "        beta=0.1,\n",
    "        reference=\"7 TeV\"\n",
    ")\n",
    "\n",
    "spectral_model_hess.amplitude.error = \"0.07e-13 TeV-1 cm-2 s-1\"\n",
    "spectral_model_hess.beta.error = 0.015\n",
    "spectral_model_hess.alpha.error = 0.019\n",
    "\n",
    "model_hess = SkyModel(spatial_model=spatial_model_hess, spectral_model=spectral_model_hess, name='crab hess')"
   ]
  },
  {
   "cell_type": "code",
   "execution_count": 10,
   "metadata": {},
   "outputs": [],
   "source": [
    "datasets_hess = []\n",
    "for i in range(5):\n",
    "    dataset = MapDataset.read('/lfs/l2/hawc/users/vikasj78/gammapyData/crabCustomEBins/dataset-bkg-fit-stacked-thresh-{:02d}.fits.gz'.format(i))\n",
    "    dataset.models.append(model_hess)\n",
    "    datasets_hess.append(dataset)"
   ]
  },
  {
   "cell_type": "code",
   "execution_count": 11,
   "metadata": {},
   "outputs": [],
   "source": [
    "fit_hess = Fit(datasets_hess)"
   ]
  },
  {
   "cell_type": "code",
   "execution_count": 12,
   "metadata": {},
   "outputs": [
    {
     "name": "stdout",
     "output_type": "stream",
     "text": [
      "CPU times: user 41.6 s, sys: 55 ms, total: 41.7 s\n",
      "Wall time: 44.1 s\n"
     ]
    }
   ],
   "source": [
    "%%time\n",
    "result_hess = fit_hess.run()"
   ]
  },
  {
   "cell_type": "markdown",
   "metadata": {},
   "source": [
    "#### joint analysis"
   ]
  },
  {
   "cell_type": "code",
   "execution_count": 13,
   "metadata": {},
   "outputs": [],
   "source": [
    "spatial_model_joint = PointSpatialModel(\n",
    "    lon_0=\"83.63 deg\",\n",
    "    lat_0=\"22.01 deg\",\n",
    "    frame=\"icrs\"\n",
    ")\n",
    "\n",
    "spectral_model_joint = LogParabolaSpectralModel(\n",
    "        amplitude=\"2.6e-13 TeV-1 cm-2 s-1\",\n",
    "        alpha=2.65,\n",
    "        beta=0.1,\n",
    "        reference=\"7 TeV\"\n",
    ")\n",
    "\n",
    "spectral_model_joint.amplitude.error = \"0.07e-13 TeV-1 cm-2 s-1\"\n",
    "spectral_model_joint.beta.error = 0.015\n",
    "spectral_model_joint.alpha.error = 0.019\n",
    "\n",
    "model_joint = SkyModel(spatial_model=spatial_model_joint, spectral_model=spectral_model_joint, name='crab joint')"
   ]
  },
  {
   "cell_type": "code",
   "execution_count": 14,
   "metadata": {},
   "outputs": [],
   "source": [
    "datasets_joint = []\n",
    "for i in range(1,10):\n",
    "    dataset =  HAWCMapDataset.read('gammapy_dataset_var_energy/hawc/crab-{}nHitBin.fits.gz'.format(i))\n",
    "    dataset.models.append(model_joint)\n",
    "    dataset.background_model.spectral_model.norm.frozen = True\n",
    "    datasets_joint.append(dataset)\n",
    "for i in range(5):\n",
    "    dataset = MapDataset.read('/lfs/l2/hawc/users/vikasj78/gammapyData/crabCustomEBins/dataset-bkg-fit-stacked-thresh-{:02d}.fits.gz'.format(i))\n",
    "    dataset.models.append(model_joint)\n",
    "    datasets_joint.append(dataset)"
   ]
  },
  {
   "cell_type": "code",
   "execution_count": 15,
   "metadata": {},
   "outputs": [],
   "source": [
    "fit_joint = Fit(datasets_joint)"
   ]
  },
  {
   "cell_type": "code",
   "execution_count": 16,
   "metadata": {},
   "outputs": [
    {
     "name": "stdout",
     "output_type": "stream",
     "text": [
      "CPU times: user 5min 24s, sys: 49.3 s, total: 6min 13s\n",
      "Wall time: 6min 14s\n"
     ]
    }
   ],
   "source": [
    "%%time\n",
    "#minuit_opts = {\"tol\": 1.0, \"strategy\": 2}\n",
    "#result_joint = fit_joint.run(backend=\"minuit\", optimize_opts=minuit_opts)\n",
    "result_joint = fit_joint.run()"
   ]
  },
  {
   "cell_type": "markdown",
   "metadata": {},
   "source": [
    "#### plotting spectrum for check if everything worked fine"
   ]
  },
  {
   "cell_type": "code",
   "execution_count": 17,
   "metadata": {},
   "outputs": [],
   "source": [
    "#Energy Estimators\n",
    "ref_model_energy = LogParabolaSpectralModel(\n",
    "    amplitude=\"2.35e-13 TeV-1 cm-2 s-1\",\n",
    "    alpha=2.79,\n",
    "    beta=0.10,\n",
    "    reference=\"7 TeV\"\n",
    ")\n",
    "\n",
    "ref_model_energy.amplitude.error = \"0.04e-13 TeV-1 cm-2 s-1\"\n",
    "ref_model_energy.beta.error = 0.02\n",
    "ref_model_energy.alpha.error = 0.01"
   ]
  },
  {
   "cell_type": "code",
   "execution_count": 19,
   "metadata": {},
   "outputs": [
    {
     "data": {
      "image/png": "[encoded data removed]",
      "text/plain": [
       "<Figure size 576x360 with 1 Axes>"
      ]
     },
     "metadata": {
      "needs_background": "light"
     },
     "output_type": "display_data"
    }
   ],
   "source": [
    "plt.figure(figsize=(8, 5))\n",
    "ax = ref_model_energy.plot(energy_range=(1, 316) * u.TeV, energy_power=2, label=\"HAWC Energy Estimator (Ref.)\", color='black')\n",
    "ref_model_energy.plot_error(energy_range=(1, 316) * u.TeV, energy_power=2, ax=ax, color='black')\n",
    "spectral_model_hawc.plot(ax=ax, energy_range=(1, 316) * u.TeV, energy_power=2, label=\"Gammapy Fit, HAWC\", color='blue')\n",
    "spectral_model_hawc.plot_error(ax=ax, energy_range=(1, 316) * u.TeV, energy_power=2, color='blue')\n",
    "spectral_model_hess.plot(ax=ax, energy_range=(0.316, 100) * u.TeV, energy_power=2, label=\"Gammapy Fit, HESS\", color='green')\n",
    "spectral_model_hess.plot_error(ax=ax, energy_range=(0.316, 100) * u.TeV, energy_power=2, color='green')\n",
    "spectral_model_joint.plot(ax=ax, energy_range=(0.316, 316) * u.TeV, energy_power=2, label=\"Gammapy Fit, Joint\", color='red')\n",
    "spectral_model_joint.plot_error(ax=ax, energy_range=(0.316, 316) * u.TeV, energy_power=2, color='red')\n",
    "plt.legend()\n",
    "plt.savefig(\"plotsCustomEbins/hess_hawc_joint_fit_without_flux_points_all.png\", dpi=300, bbox_inches='tight')"
   ]
  },
  {
   "cell_type": "code",
   "execution_count": 28,
   "metadata": {},
   "outputs": [
    {
     "name": "stderr",
     "output_type": "stream",
     "text": [
      "/lfs/l2/hawc/users/vikasj78/software-hess/gammapy_latest/anaconda3/envs/gammapy-0.17/lib/python3.7/site-packages/astropy/visualization/mpl_normalize.py:130: RuntimeWarning: invalid value encountered in true_divide\n",
      "  np.true_divide(values, self.vmax - self.vmin, out=values)\n",
      "/lfs/l2/hawc/users/vikasj78/software-hess/gammapy_latest/anaconda3/envs/gammapy-0.17/lib/python3.7/site-packages/astropy/visualization/mpl_normalize.py:130: RuntimeWarning: invalid value encountered in true_divide\n",
      "  np.true_divide(values, self.vmax - self.vmin, out=values)\n",
      "/lfs/l2/hawc/users/vikasj78/software-hess/gammapy_latest/anaconda3/envs/gammapy-0.17/lib/python3.7/site-packages/astropy/visualization/mpl_normalize.py:130: RuntimeWarning: invalid value encountered in true_divide\n",
      "  np.true_divide(values, self.vmax - self.vmin, out=values)\n",
      "/lfs/l2/hawc/users/vikasj78/software-hess/gammapy_latest/anaconda3/envs/gammapy-0.17/lib/python3.7/site-packages/astropy/visualization/mpl_normalize.py:130: RuntimeWarning: invalid value encountered in true_divide\n",
      "  np.true_divide(values, self.vmax - self.vmin, out=values)\n",
      "/lfs/l2/hawc/users/vikasj78/software-hess/gammapy_latest/anaconda3/envs/gammapy-0.17/lib/python3.7/site-packages/astropy/visualization/mpl_normalize.py:130: RuntimeWarning: invalid value encountered in true_divide\n",
      "  np.true_divide(values, self.vmax - self.vmin, out=values)\n"
     ]
    },
    {
     "data": {
      "image/png": "[encoded data removed]",
      "text/plain": [
       "<Figure size 432x288 with 1 Axes>"
      ]
     },
     "metadata": {
      "needs_background": "light"
     },
     "output_type": "display_data"
    }
   ],
   "source": [
    "handles = []\n",
    "geom = WcsGeom.create(\n",
    "    skydir=(spatial_model_joint.position),\n",
    "    binsz=0.001,\n",
    "    width=(0.012, 0.012),\n",
    "    frame=\"icrs\",\n",
    "    proj=\"CAR\",\n",
    ")\n",
    "model = ConstantSpatialModel()\n",
    "ax = model.plot(geom=geom)\n",
    "models = [spatial_model_hawc,spatial_model_hess,spatial_model_joint]\n",
    "colors = ['blue','green','red']\n",
    "names = ['HAWC','HESS','Joint']\n",
    "for model, name, color in zip(models, names, colors):\n",
    "    region = model.position_error.to_pixel(ax.wcs)\n",
    "    artist = region.as_artist(facecolor=\"none\", edgecolor=color)\n",
    "    handle = mpatches.Patch(label=name, color=color)\n",
    "    handles.append(handle)\n",
    "    ax.add_artist(artist)\n",
    "plt.legend(handles=handles)\n",
    "plt.savefig(\"plotsCustomEbins/source_positions.png\", dpi=300, bbox_inches='tight')"
   ]
  },
  {
   "cell_type": "code",
   "execution_count": 29,
   "metadata": {},
   "outputs": [
    {
     "data": {
      "text/html": [
       "<i>Table length=33</i>\n",
       "<table id=\"table139751320952000-588552\" class=\"table-striped table-bordered table-condensed\">\n",
       "<thead><tr><th>idx</th><th>name</th><th>value</th><th>unit</th><th>min</th><th>max</th><th>frozen</th><th>error</th></tr></thead>\n",
       "<tr><td>0</td><td>norm</td><td>1.0000e+00</td><td></td><td>nan</td><td>nan</td><td>True</td><td>0.000e+00</td></tr>\n",
       "<tr><td>1</td><td>tilt</td><td>0.0000e+00</td><td></td><td>nan</td><td>nan</td><td>True</td><td>0.000e+00</td></tr>\n",
       "<tr><td>2</td><td>reference</td><td>1.0000e+00</td><td>TeV</td><td>nan</td><td>nan</td><td>True</td><td>0.000e+00</td></tr>\n",
       "<tr><td>3</td><td>amplitude</td><td>2.2585e-13</td><td>cm-2 s-1 TeV-1</td><td>nan</td><td>nan</td><td>False</td><td>3.652e-15</td></tr>\n",
       "<tr><td>4</td><td>reference</td><td>7.0000e+00</td><td>TeV</td><td>nan</td><td>nan</td><td>True</td><td>0.000e+00</td></tr>\n",
       "<tr><td>5</td><td>alpha</td><td>2.7758e+00</td><td></td><td>nan</td><td>nan</td><td>False</td><td>1.653e-02</td></tr>\n",
       "<tr><td>6</td><td>beta</td><td>8.8430e-02</td><td></td><td>nan</td><td>nan</td><td>False</td><td>7.076e-03</td></tr>\n",
       "<tr><td>7</td><td>lon_0</td><td>8.3632e+01</td><td>deg</td><td>nan</td><td>nan</td><td>False</td><td>1.998e-03</td></tr>\n",
       "<tr><td>8</td><td>lat_0</td><td>2.2021e+01</td><td>deg</td><td>-9.000e+01</td><td>9.000e+01</td><td>False</td><td>1.532e-03</td></tr>\n",
       "<tr><td>9</td><td>norm</td><td>1.0000e+00</td><td></td><td>nan</td><td>nan</td><td>True</td><td>0.000e+00</td></tr>\n",
       "<tr><td>10</td><td>tilt</td><td>0.0000e+00</td><td></td><td>nan</td><td>nan</td><td>True</td><td>0.000e+00</td></tr>\n",
       "<tr><td>11</td><td>reference</td><td>1.0000e+00</td><td>TeV</td><td>nan</td><td>nan</td><td>True</td><td>0.000e+00</td></tr>\n",
       "<tr><td>12</td><td>norm</td><td>1.0000e+00</td><td></td><td>nan</td><td>nan</td><td>True</td><td>0.000e+00</td></tr>\n",
       "<tr><td>13</td><td>tilt</td><td>0.0000e+00</td><td></td><td>nan</td><td>nan</td><td>True</td><td>0.000e+00</td></tr>\n",
       "<tr><td>14</td><td>reference</td><td>1.0000e+00</td><td>TeV</td><td>nan</td><td>nan</td><td>True</td><td>0.000e+00</td></tr>\n",
       "<tr><td>15</td><td>norm</td><td>1.0000e+00</td><td></td><td>nan</td><td>nan</td><td>True</td><td>0.000e+00</td></tr>\n",
       "<tr><td>16</td><td>tilt</td><td>0.0000e+00</td><td></td><td>nan</td><td>nan</td><td>True</td><td>0.000e+00</td></tr>\n",
       "<tr><td>17</td><td>reference</td><td>1.0000e+00</td><td>TeV</td><td>nan</td><td>nan</td><td>True</td><td>0.000e+00</td></tr>\n",
       "<tr><td>18</td><td>norm</td><td>1.0000e+00</td><td></td><td>nan</td><td>nan</td><td>True</td><td>0.000e+00</td></tr>\n",
       "<tr><td>19</td><td>tilt</td><td>0.0000e+00</td><td></td><td>nan</td><td>nan</td><td>True</td><td>0.000e+00</td></tr>\n",
       "<tr><td>20</td><td>reference</td><td>1.0000e+00</td><td>TeV</td><td>nan</td><td>nan</td><td>True</td><td>0.000e+00</td></tr>\n",
       "<tr><td>21</td><td>norm</td><td>1.0000e+00</td><td></td><td>nan</td><td>nan</td><td>True</td><td>0.000e+00</td></tr>\n",
       "<tr><td>22</td><td>tilt</td><td>0.0000e+00</td><td></td><td>nan</td><td>nan</td><td>True</td><td>0.000e+00</td></tr>\n",
       "<tr><td>23</td><td>reference</td><td>1.0000e+00</td><td>TeV</td><td>nan</td><td>nan</td><td>True</td><td>0.000e+00</td></tr>\n",
       "<tr><td>24</td><td>norm</td><td>1.0000e+00</td><td></td><td>nan</td><td>nan</td><td>True</td><td>0.000e+00</td></tr>\n",
       "<tr><td>25</td><td>tilt</td><td>0.0000e+00</td><td></td><td>nan</td><td>nan</td><td>True</td><td>0.000e+00</td></tr>\n",
       "<tr><td>26</td><td>reference</td><td>1.0000e+00</td><td>TeV</td><td>nan</td><td>nan</td><td>True</td><td>0.000e+00</td></tr>\n",
       "<tr><td>27</td><td>norm</td><td>1.0000e+00</td><td></td><td>nan</td><td>nan</td><td>True</td><td>0.000e+00</td></tr>\n",
       "<tr><td>28</td><td>tilt</td><td>0.0000e+00</td><td></td><td>nan</td><td>nan</td><td>True</td><td>0.000e+00</td></tr>\n",
       "<tr><td>29</td><td>reference</td><td>1.0000e+00</td><td>TeV</td><td>nan</td><td>nan</td><td>True</td><td>0.000e+00</td></tr>\n",
       "<tr><td>30</td><td>norm</td><td>1.0000e+00</td><td></td><td>nan</td><td>nan</td><td>True</td><td>0.000e+00</td></tr>\n",
       "<tr><td>31</td><td>tilt</td><td>0.0000e+00</td><td></td><td>nan</td><td>nan</td><td>True</td><td>0.000e+00</td></tr>\n",
       "<tr><td>32</td><td>reference</td><td>1.0000e+00</td><td>TeV</td><td>nan</td><td>nan</td><td>True</td><td>0.000e+00</td></tr>\n",
       "</table><style>table.dataTable {clear: both; width: auto !important; margin: 0 !important;}\n",
       ".dataTables_info, .dataTables_length, .dataTables_filter, .dataTables_paginate{\n",
       "display: inline-block; margin-right: 1em; }\n",
       ".paginate_button { margin-right: 5px; }\n",
       "</style>\n",
       "<script>\n",
       "\n",
       "var astropy_sort_num = function(a, b) {\n",
       "    var a_num = parseFloat(a);\n",
       "    var b_num = parseFloat(b);\n",
       "\n",
       "    if (isNaN(a_num) && isNaN(b_num))\n",
       "        return ((a < b) ? -1 : ((a > b) ? 1 : 0));\n",
       "    else if (!isNaN(a_num) && !isNaN(b_num))\n",
       "        return ((a_num < b_num) ? -1 : ((a_num > b_num) ? 1 : 0));\n",
       "    else\n",
       "        return isNaN(a_num) ? -1 : 1;\n",
       "}\n",
       "\n",
       "require.config({paths: {\n",
       "    datatables: 'https://cdn.datatables.net/1.10.12/js/jquery.dataTables.min'\n",
       "}});\n",
       "require([\"datatables\"], function(){\n",
       "    console.log(\"$('#table139751320952000-588552').dataTable()\");\n",
       "    \n",
       "jQuery.extend( jQuery.fn.dataTableExt.oSort, {\n",
       "    \"optionalnum-asc\": astropy_sort_num,\n",
       "    \"optionalnum-desc\": function (a,b) { return -astropy_sort_num(a, b); }\n",
       "});\n",
       "\n",
       "    $('#table139751320952000-588552').dataTable({\n",
       "        order: [],\n",
       "        pageLength: 50,\n",
       "        lengthMenu: [[10, 25, 50, 100, 500, 1000, -1], [10, 25, 50, 100, 500, 1000, 'All']],\n",
       "        pagingType: \"full_numbers\",\n",
       "        columnDefs: [{targets: [0, 2, 4, 5, 7], type: \"optionalnum\"}]\n",
       "    });\n",
       "});\n",
       "</script>\n"
      ],
      "text/plain": [
       "<IPython.core.display.HTML object>"
      ]
     },
     "execution_count": 29,
     "metadata": {},
     "output_type": "execute_result"
    }
   ],
   "source": [
    "result_hawc.parameters.to_table().show_in_notebook()"
   ]
  },
  {
   "cell_type": "code",
   "execution_count": 30,
   "metadata": {},
   "outputs": [
    {
     "data": {
      "text/html": [
       "<i>Table length=21</i>\n",
       "<table id=\"table139751320074336-868165\" class=\"table-striped table-bordered table-condensed\">\n",
       "<thead><tr><th>idx</th><th>name</th><th>value</th><th>unit</th><th>min</th><th>max</th><th>frozen</th><th>error</th></tr></thead>\n",
       "<tr><td>0</td><td>norm</td><td>9.9650e-01</td><td></td><td>nan</td><td>nan</td><td>False</td><td>2.094e-02</td></tr>\n",
       "<tr><td>1</td><td>tilt</td><td>0.0000e+00</td><td></td><td>nan</td><td>nan</td><td>True</td><td>0.000e+00</td></tr>\n",
       "<tr><td>2</td><td>reference</td><td>1.0000e+00</td><td>TeV</td><td>nan</td><td>nan</td><td>True</td><td>0.000e+00</td></tr>\n",
       "<tr><td>3</td><td>amplitude</td><td>2.0002e-13</td><td>cm-2 s-1 TeV-1</td><td>nan</td><td>nan</td><td>False</td><td>3.772e-15</td></tr>\n",
       "<tr><td>4</td><td>reference</td><td>7.0000e+00</td><td>TeV</td><td>nan</td><td>nan</td><td>True</td><td>0.000e+00</td></tr>\n",
       "<tr><td>5</td><td>alpha</td><td>2.8318e+00</td><td></td><td>nan</td><td>nan</td><td>False</td><td>2.411e-02</td></tr>\n",
       "<tr><td>6</td><td>beta</td><td>7.1598e-02</td><td></td><td>nan</td><td>nan</td><td>False</td><td>9.688e-03</td></tr>\n",
       "<tr><td>7</td><td>lon_0</td><td>8.3631e+01</td><td>deg</td><td>nan</td><td>nan</td><td>False</td><td>3.219e-04</td></tr>\n",
       "<tr><td>8</td><td>lat_0</td><td>2.2021e+01</td><td>deg</td><td>-9.000e+01</td><td>9.000e+01</td><td>False</td><td>2.877e-04</td></tr>\n",
       "<tr><td>9</td><td>norm</td><td>1.0035e+00</td><td></td><td>nan</td><td>nan</td><td>False</td><td>6.961e-03</td></tr>\n",
       "<tr><td>10</td><td>tilt</td><td>0.0000e+00</td><td></td><td>nan</td><td>nan</td><td>True</td><td>0.000e+00</td></tr>\n",
       "<tr><td>11</td><td>reference</td><td>1.0000e+00</td><td>TeV</td><td>nan</td><td>nan</td><td>True</td><td>0.000e+00</td></tr>\n",
       "<tr><td>12</td><td>norm</td><td>1.0022e+00</td><td></td><td>nan</td><td>nan</td><td>False</td><td>5.131e-03</td></tr>\n",
       "<tr><td>13</td><td>tilt</td><td>0.0000e+00</td><td></td><td>nan</td><td>nan</td><td>True</td><td>0.000e+00</td></tr>\n",
       "<tr><td>14</td><td>reference</td><td>1.0000e+00</td><td>TeV</td><td>nan</td><td>nan</td><td>True</td><td>0.000e+00</td></tr>\n",
       "<tr><td>15</td><td>norm</td><td>9.9108e-01</td><td></td><td>nan</td><td>nan</td><td>False</td><td>1.353e-02</td></tr>\n",
       "<tr><td>16</td><td>tilt</td><td>0.0000e+00</td><td></td><td>nan</td><td>nan</td><td>True</td><td>0.000e+00</td></tr>\n",
       "<tr><td>17</td><td>reference</td><td>1.0000e+00</td><td>TeV</td><td>nan</td><td>nan</td><td>True</td><td>0.000e+00</td></tr>\n",
       "<tr><td>18</td><td>norm</td><td>1.0043e+00</td><td></td><td>nan</td><td>nan</td><td>False</td><td>1.621e-02</td></tr>\n",
       "<tr><td>19</td><td>tilt</td><td>0.0000e+00</td><td></td><td>nan</td><td>nan</td><td>True</td><td>0.000e+00</td></tr>\n",
       "<tr><td>20</td><td>reference</td><td>1.0000e+00</td><td>TeV</td><td>nan</td><td>nan</td><td>True</td><td>0.000e+00</td></tr>\n",
       "</table><style>table.dataTable {clear: both; width: auto !important; margin: 0 !important;}\n",
       ".dataTables_info, .dataTables_length, .dataTables_filter, .dataTables_paginate{\n",
       "display: inline-block; margin-right: 1em; }\n",
       ".paginate_button { margin-right: 5px; }\n",
       "</style>\n",
       "<script>\n",
       "\n",
       "var astropy_sort_num = function(a, b) {\n",
       "    var a_num = parseFloat(a);\n",
       "    var b_num = parseFloat(b);\n",
       "\n",
       "    if (isNaN(a_num) && isNaN(b_num))\n",
       "        return ((a < b) ? -1 : ((a > b) ? 1 : 0));\n",
       "    else if (!isNaN(a_num) && !isNaN(b_num))\n",
       "        return ((a_num < b_num) ? -1 : ((a_num > b_num) ? 1 : 0));\n",
       "    else\n",
       "        return isNaN(a_num) ? -1 : 1;\n",
       "}\n",
       "\n",
       "require.config({paths: {\n",
       "    datatables: 'https://cdn.datatables.net/1.10.12/js/jquery.dataTables.min'\n",
       "}});\n",
       "require([\"datatables\"], function(){\n",
       "    console.log(\"$('#table139751320074336-868165').dataTable()\");\n",
       "    \n",
       "jQuery.extend( jQuery.fn.dataTableExt.oSort, {\n",
       "    \"optionalnum-asc\": astropy_sort_num,\n",
       "    \"optionalnum-desc\": function (a,b) { return -astropy_sort_num(a, b); }\n",
       "});\n",
       "\n",
       "    $('#table139751320074336-868165').dataTable({\n",
       "        order: [],\n",
       "        pageLength: 50,\n",
       "        lengthMenu: [[10, 25, 50, 100, 500, 1000, -1], [10, 25, 50, 100, 500, 1000, 'All']],\n",
       "        pagingType: \"full_numbers\",\n",
       "        columnDefs: [{targets: [0, 2, 4, 5, 7], type: \"optionalnum\"}]\n",
       "    });\n",
       "});\n",
       "</script>\n"
      ],
      "text/plain": [
       "<IPython.core.display.HTML object>"
      ]
     },
     "execution_count": 30,
     "metadata": {},
     "output_type": "execute_result"
    }
   ],
   "source": [
    "result_hess.parameters.to_table().show_in_notebook()"
   ]
  },
  {
   "cell_type": "code",
   "execution_count": 31,
   "metadata": {},
   "outputs": [
    {
     "data": {
      "text/html": [
       "<i>Table length=48</i>\n",
       "<table id=\"table139751320949592-515920\" class=\"table-striped table-bordered table-condensed\">\n",
       "<thead><tr><th>idx</th><th>name</th><th>value</th><th>unit</th><th>min</th><th>max</th><th>frozen</th><th>error</th></tr></thead>\n",
       "<tr><td>0</td><td>norm</td><td>1.0000e+00</td><td></td><td>nan</td><td>nan</td><td>True</td><td>0.000e+00</td></tr>\n",
       "<tr><td>1</td><td>tilt</td><td>0.0000e+00</td><td></td><td>nan</td><td>nan</td><td>True</td><td>0.000e+00</td></tr>\n",
       "<tr><td>2</td><td>reference</td><td>1.0000e+00</td><td>TeV</td><td>nan</td><td>nan</td><td>True</td><td>0.000e+00</td></tr>\n",
       "<tr><td>3</td><td>amplitude</td><td>2.1476e-13</td><td>cm-2 s-1 TeV-1</td><td>nan</td><td>nan</td><td>False</td><td>2.628e-15</td></tr>\n",
       "<tr><td>4</td><td>reference</td><td>7.0000e+00</td><td>TeV</td><td>nan</td><td>nan</td><td>True</td><td>0.000e+00</td></tr>\n",
       "<tr><td>5</td><td>alpha</td><td>2.7911e+00</td><td></td><td>nan</td><td>nan</td><td>False</td><td>1.372e-02</td></tr>\n",
       "<tr><td>6</td><td>beta</td><td>7.2478e-02</td><td></td><td>nan</td><td>nan</td><td>False</td><td>5.429e-03</td></tr>\n",
       "<tr><td>7</td><td>lon_0</td><td>8.3631e+01</td><td>deg</td><td>nan</td><td>nan</td><td>False</td><td>3.182e-04</td></tr>\n",
       "<tr><td>8</td><td>lat_0</td><td>2.2021e+01</td><td>deg</td><td>-9.000e+01</td><td>9.000e+01</td><td>False</td><td>2.827e-04</td></tr>\n",
       "<tr><td>9</td><td>norm</td><td>1.0000e+00</td><td></td><td>nan</td><td>nan</td><td>True</td><td>0.000e+00</td></tr>\n",
       "<tr><td>10</td><td>tilt</td><td>0.0000e+00</td><td></td><td>nan</td><td>nan</td><td>True</td><td>0.000e+00</td></tr>\n",
       "<tr><td>11</td><td>reference</td><td>1.0000e+00</td><td>TeV</td><td>nan</td><td>nan</td><td>True</td><td>0.000e+00</td></tr>\n",
       "<tr><td>12</td><td>norm</td><td>1.0000e+00</td><td></td><td>nan</td><td>nan</td><td>True</td><td>0.000e+00</td></tr>\n",
       "<tr><td>13</td><td>tilt</td><td>0.0000e+00</td><td></td><td>nan</td><td>nan</td><td>True</td><td>0.000e+00</td></tr>\n",
       "<tr><td>14</td><td>reference</td><td>1.0000e+00</td><td>TeV</td><td>nan</td><td>nan</td><td>True</td><td>0.000e+00</td></tr>\n",
       "<tr><td>15</td><td>norm</td><td>1.0000e+00</td><td></td><td>nan</td><td>nan</td><td>True</td><td>0.000e+00</td></tr>\n",
       "<tr><td>16</td><td>tilt</td><td>0.0000e+00</td><td></td><td>nan</td><td>nan</td><td>True</td><td>0.000e+00</td></tr>\n",
       "<tr><td>17</td><td>reference</td><td>1.0000e+00</td><td>TeV</td><td>nan</td><td>nan</td><td>True</td><td>0.000e+00</td></tr>\n",
       "<tr><td>18</td><td>norm</td><td>1.0000e+00</td><td></td><td>nan</td><td>nan</td><td>True</td><td>0.000e+00</td></tr>\n",
       "<tr><td>19</td><td>tilt</td><td>0.0000e+00</td><td></td><td>nan</td><td>nan</td><td>True</td><td>0.000e+00</td></tr>\n",
       "<tr><td>20</td><td>reference</td><td>1.0000e+00</td><td>TeV</td><td>nan</td><td>nan</td><td>True</td><td>0.000e+00</td></tr>\n",
       "<tr><td>21</td><td>norm</td><td>1.0000e+00</td><td></td><td>nan</td><td>nan</td><td>True</td><td>0.000e+00</td></tr>\n",
       "<tr><td>22</td><td>tilt</td><td>0.0000e+00</td><td></td><td>nan</td><td>nan</td><td>True</td><td>0.000e+00</td></tr>\n",
       "<tr><td>23</td><td>reference</td><td>1.0000e+00</td><td>TeV</td><td>nan</td><td>nan</td><td>True</td><td>0.000e+00</td></tr>\n",
       "<tr><td>24</td><td>norm</td><td>1.0000e+00</td><td></td><td>nan</td><td>nan</td><td>True</td><td>0.000e+00</td></tr>\n",
       "<tr><td>25</td><td>tilt</td><td>0.0000e+00</td><td></td><td>nan</td><td>nan</td><td>True</td><td>0.000e+00</td></tr>\n",
       "<tr><td>26</td><td>reference</td><td>1.0000e+00</td><td>TeV</td><td>nan</td><td>nan</td><td>True</td><td>0.000e+00</td></tr>\n",
       "<tr><td>27</td><td>norm</td><td>1.0000e+00</td><td></td><td>nan</td><td>nan</td><td>True</td><td>0.000e+00</td></tr>\n",
       "<tr><td>28</td><td>tilt</td><td>0.0000e+00</td><td></td><td>nan</td><td>nan</td><td>True</td><td>0.000e+00</td></tr>\n",
       "<tr><td>29</td><td>reference</td><td>1.0000e+00</td><td>TeV</td><td>nan</td><td>nan</td><td>True</td><td>0.000e+00</td></tr>\n",
       "<tr><td>30</td><td>norm</td><td>1.0000e+00</td><td></td><td>nan</td><td>nan</td><td>True</td><td>0.000e+00</td></tr>\n",
       "<tr><td>31</td><td>tilt</td><td>0.0000e+00</td><td></td><td>nan</td><td>nan</td><td>True</td><td>0.000e+00</td></tr>\n",
       "<tr><td>32</td><td>reference</td><td>1.0000e+00</td><td>TeV</td><td>nan</td><td>nan</td><td>True</td><td>0.000e+00</td></tr>\n",
       "<tr><td>33</td><td>norm</td><td>1.0017e+00</td><td></td><td>nan</td><td>nan</td><td>False</td><td>2.096e-02</td></tr>\n",
       "<tr><td>34</td><td>tilt</td><td>0.0000e+00</td><td></td><td>nan</td><td>nan</td><td>True</td><td>0.000e+00</td></tr>\n",
       "<tr><td>35</td><td>reference</td><td>1.0000e+00</td><td>TeV</td><td>nan</td><td>nan</td><td>True</td><td>0.000e+00</td></tr>\n",
       "<tr><td>36</td><td>norm</td><td>1.0041e+00</td><td></td><td>nan</td><td>nan</td><td>False</td><td>6.959e-03</td></tr>\n",
       "<tr><td>37</td><td>tilt</td><td>0.0000e+00</td><td></td><td>nan</td><td>nan</td><td>True</td><td>0.000e+00</td></tr>\n",
       "<tr><td>38</td><td>reference</td><td>1.0000e+00</td><td>TeV</td><td>nan</td><td>nan</td><td>True</td><td>0.000e+00</td></tr>\n",
       "<tr><td>39</td><td>norm</td><td>1.0019e+00</td><td></td><td>nan</td><td>nan</td><td>False</td><td>5.125e-03</td></tr>\n",
       "<tr><td>40</td><td>tilt</td><td>0.0000e+00</td><td></td><td>nan</td><td>nan</td><td>True</td><td>0.000e+00</td></tr>\n",
       "<tr><td>41</td><td>reference</td><td>1.0000e+00</td><td>TeV</td><td>nan</td><td>nan</td><td>True</td><td>0.000e+00</td></tr>\n",
       "<tr><td>42</td><td>norm</td><td>9.9184e-01</td><td></td><td>nan</td><td>nan</td><td>False</td><td>1.353e-02</td></tr>\n",
       "<tr><td>43</td><td>tilt</td><td>0.0000e+00</td><td></td><td>nan</td><td>nan</td><td>True</td><td>0.000e+00</td></tr>\n",
       "<tr><td>44</td><td>reference</td><td>1.0000e+00</td><td>TeV</td><td>nan</td><td>nan</td><td>True</td><td>0.000e+00</td></tr>\n",
       "<tr><td>45</td><td>norm</td><td>1.0053e+00</td><td></td><td>nan</td><td>nan</td><td>False</td><td>1.620e-02</td></tr>\n",
       "<tr><td>46</td><td>tilt</td><td>0.0000e+00</td><td></td><td>nan</td><td>nan</td><td>True</td><td>0.000e+00</td></tr>\n",
       "<tr><td>47</td><td>reference</td><td>1.0000e+00</td><td>TeV</td><td>nan</td><td>nan</td><td>True</td><td>0.000e+00</td></tr>\n",
       "</table><style>table.dataTable {clear: both; width: auto !important; margin: 0 !important;}\n",
       ".dataTables_info, .dataTables_length, .dataTables_filter, .dataTables_paginate{\n",
       "display: inline-block; margin-right: 1em; }\n",
       ".paginate_button { margin-right: 5px; }\n",
       "</style>\n",
       "<script>\n",
       "\n",
       "var astropy_sort_num = function(a, b) {\n",
       "    var a_num = parseFloat(a);\n",
       "    var b_num = parseFloat(b);\n",
       "\n",
       "    if (isNaN(a_num) && isNaN(b_num))\n",
       "        return ((a < b) ? -1 : ((a > b) ? 1 : 0));\n",
       "    else if (!isNaN(a_num) && !isNaN(b_num))\n",
       "        return ((a_num < b_num) ? -1 : ((a_num > b_num) ? 1 : 0));\n",
       "    else\n",
       "        return isNaN(a_num) ? -1 : 1;\n",
       "}\n",
       "\n",
       "require.config({paths: {\n",
       "    datatables: 'https://cdn.datatables.net/1.10.12/js/jquery.dataTables.min'\n",
       "}});\n",
       "require([\"datatables\"], function(){\n",
       "    console.log(\"$('#table139751320949592-515920').dataTable()\");\n",
       "    \n",
       "jQuery.extend( jQuery.fn.dataTableExt.oSort, {\n",
       "    \"optionalnum-asc\": astropy_sort_num,\n",
       "    \"optionalnum-desc\": function (a,b) { return -astropy_sort_num(a, b); }\n",
       "});\n",
       "\n",
       "    $('#table139751320949592-515920').dataTable({\n",
       "        order: [],\n",
       "        pageLength: 50,\n",
       "        lengthMenu: [[10, 25, 50, 100, 500, 1000, -1], [10, 25, 50, 100, 500, 1000, 'All']],\n",
       "        pagingType: \"full_numbers\",\n",
       "        columnDefs: [{targets: [0, 2, 4, 5, 7], type: \"optionalnum\"}]\n",
       "    });\n",
       "});\n",
       "</script>\n"
      ],
      "text/plain": [
       "<IPython.core.display.HTML object>"
      ]
     },
     "execution_count": 31,
     "metadata": {},
     "output_type": "execute_result"
    }
   ],
   "source": [
    "result_joint.parameters.to_table().show_in_notebook()"
   ]
  },
  {
   "cell_type": "code",
   "execution_count": 35,
   "metadata": {},
   "outputs": [],
   "source": [
    "def make_contours(fit, result, par1, par2, x_values, y_values):\n",
    "    optimize_opts = {\"backend\": \"minuit\", \"print_level\": 0}\n",
    "    x = result.parameters[par1]\n",
    "    y = result.parameters[par2]\n",
    "    stat_surface = fit.stat_surface(\n",
    "        x, y, x_values, y_values, reoptimize=False, **optimize_opts\n",
    "    )\n",
    "    # Compute TS\n",
    "    TS = stat_surface[\"stat_scan\"] - result.total_stat\n",
    "    # Compute the corresponding statistical significance surface\n",
    "    gaussian_sigmas = np.sqrt(TS.T)\n",
    "    return gaussian_sigmas"
   ]
  },
  {
   "cell_type": "code",
   "execution_count": 44,
   "metadata": {},
   "outputs": [
    {
     "name": "stderr",
     "output_type": "stream",
     "text": [
      "/lfs/l2/hawc/users/vikasj78/software-hess/gammapy_latest/anaconda3/envs/gammapy-0.17/lib/python3.7/site-packages/ipykernel_launcher.py:11: RuntimeWarning: invalid value encountered in sqrt\n",
      "  # This is added back by InteractiveShellApp.init_path()\n"
     ]
    },
    {
     "name": "stdout",
     "output_type": "stream",
     "text": [
      "CPU times: user 1h 22min 6s, sys: 8min 27s, total: 1h 30min 33s\n",
      "Wall time: 1h 30min 53s\n"
     ]
    },
    {
     "name": "stderr",
     "output_type": "stream",
     "text": [
      "/lfs/l2/hawc/users/vikasj78/software-hess/gammapy_latest/anaconda3/envs/gammapy-0.17/lib/python3.7/site-packages/ipykernel_launcher.py:11: RuntimeWarning: invalid value encountered in sqrt\n",
      "  # This is added back by InteractiveShellApp.init_path()\n"
     ]
    }
   ],
   "source": [
    "%%time\n",
    "x_values = np.linspace(0.06, 0.10, 50)\n",
    "y_values = np.linspace(1.9e-13, 2.3e-13, 50)\n",
    "par1 = 'beta'\n",
    "par2 = 'amplitude'\n",
    "fits = [fit_hawc, fit_hess, fit_joint]\n",
    "results = [result_hawc, result_hess, result_joint]\n",
    "names = ['hawc','hess','joint']\n",
    "for fit,result,name in zip(fits,results,names):\n",
    "    gaussian_sigma = make_contours(fit,result,par1,par2,x_values,y_values)\n",
    "    file_name = name + '_' + par1 + '_' + par2 + '.npz'\n",
    "    np.savez('contoursDataFull/'+file_name,sigmas=gaussian_sigma)"
   ]
  },
  {
   "cell_type": "code",
   "execution_count": 54,
   "metadata": {},
   "outputs": [
    {
     "data": {
      "image/png": "[encoded data removed]",
      "text/plain": [
       "<Figure size 576x432 with 1 Axes>"
      ]
     },
     "metadata": {
      "needs_background": "light"
     },
     "output_type": "display_data"
    }
   ],
   "source": [
    "x_values = np.linspace(0.06, 0.10, 50)\n",
    "y_values = np.linspace(1.9e-13, 2.3e-13, 50)\n",
    "par1 = 'beta'\n",
    "par2 = 'amplitude'\n",
    "names = ['hawc','hess','joint']\n",
    "colors = ['blue','green','red']\n",
    "x1 = 0; x2 = -1; y1 = 0; y2 = -1\n",
    "fig, ax = plt.subplots(figsize=(8, 6))\n",
    "for name, color in zip(names,colors):\n",
    "    data = np.load(\"contoursDataFull/{}_{}_{}.npz\".format(name,par1,par2))\n",
    "    data = data['sigmas']\n",
    "    data = data[y1:y2,x1:x2]\n",
    "    contours = plt.contour(data, levels=[1], colors=color)\n",
    "    #plt.clabel(contours, fmt=name, inline=3, fontsize=15)\n",
    "plt.xticks(range(len(x_values[x1:x2])), np.around(x_values[x1:x2], decimals=3), rotation=90)\n",
    "plt.yticks(range(len(y_values[y1:y2])), np.around(y_values[y1:y2]*1e13,decimals=2));\n",
    "plt.xlabel(r\"$\\beta$\")\n",
    "plt.ylabel(r\"$\\phi_{\\rm 7 TeV} \\,/\\,(10^{-13}\\,{\\rm TeV}^{-1} \\, {\\rm cm}^{-2} {\\rm s}^{-1})$\")\n",
    "plt.savefig(\"plotsCustomEbins/contours_beta_amplitude.png\", dpi=300, bbox_inches='tight')"
   ]
  },
  {
   "cell_type": "code",
   "execution_count": 53,
   "metadata": {},
   "outputs": [
    {
     "name": "stderr",
     "output_type": "stream",
     "text": [
      "/lfs/l2/hawc/users/vikasj78/software-hess/gammapy_latest/anaconda3/envs/gammapy-0.17/lib/python3.7/site-packages/ipykernel_launcher.py:11: RuntimeWarning: invalid value encountered in sqrt\n",
      "  # This is added back by InteractiveShellApp.init_path()\n"
     ]
    },
    {
     "name": "stdout",
     "output_type": "stream",
     "text": [
      "CPU times: user 1h 6min 27s, sys: 10min 56s, total: 1h 17min 23s\n",
      "Wall time: 1h 18min 7s\n"
     ]
    }
   ],
   "source": [
    "%%time\n",
    "x_values = np.linspace(2.7, 2.9, 50)\n",
    "y_values = np.linspace(0.06, 0.10, 50)\n",
    "par1 = 'alpha'\n",
    "par2 = 'beta'\n",
    "fits = [fit_hawc, fit_hess, fit_joint]\n",
    "results = [result_hawc, result_hess, result_joint]\n",
    "names = ['hawc','hess','joint']\n",
    "for fit,result,name in zip(fits,results,names):\n",
    "    gaussian_sigma = make_contours(fit,result,par1,par2,x_values,y_values)\n",
    "    file_name = name + '_' + par1 + '_' + par2 + '.npz'\n",
    "    np.savez('contoursDataFull/'+file_name,sigmas=gaussian_sigma)"
   ]
  },
  {
   "cell_type": "code",
   "execution_count": 56,
   "metadata": {},
   "outputs": [
    {
     "data": {
      "image/png": "[encoded data removed]",
      "text/plain": [
       "<Figure size 576x432 with 1 Axes>"
      ]
     },
     "metadata": {
      "needs_background": "light"
     },
     "output_type": "display_data"
    }
   ],
   "source": [
    "x_values = np.linspace(2.7, 2.9, 50)\n",
    "y_values = np.linspace(0.06, 0.10, 50)\n",
    "par1 = 'alpha'\n",
    "par2 = 'beta'\n",
    "names = ['hawc','hess','joint']\n",
    "colors = ['blue','green','red']\n",
    "x1 = 0; x2 = -1; y1 = 0; y2 = -1\n",
    "fig, ax = plt.subplots(figsize=(8, 6))\n",
    "for name, color in zip(names,colors):\n",
    "    data = np.load(\"contoursDataFull/{}_{}_{}.npz\".format(name,par1,par2))\n",
    "    data = data['sigmas']\n",
    "    data = data[y1:y2,x1:x2]\n",
    "    contours = plt.contour(data, levels=[1], colors=color)\n",
    "    #plt.clabel(contours, fmt=name, inline=3, fontsize=15)\n",
    "plt.xticks(range(len(x_values[x1:x2])), np.around(x_values[x1:x2], decimals=2), rotation=90)\n",
    "plt.yticks(range(len(y_values[y1:y2])), np.around(y_values[y1:y2], decimals=3));\n",
    "plt.xlabel(r\"$\\alpha$\")\n",
    "plt.ylabel(r\"$\\beta$\")\n",
    "plt.savefig(\"plotsCustomEbins/contours_alpha_beta.png\", dpi=300, bbox_inches='tight')"
   ]
  },
  {
   "cell_type": "code",
   "execution_count": null,
   "metadata": {},
   "outputs": [],
   "source": [
    "%%time\n",
    "x_values = np.linspace(2.7, 2.9, 50)\n",
    "y_values = np.linspace(1.9e-13, 2.3e-13, 50)\n",
    "par1 = 'alpha'\n",
    "par2 = 'amplitude'\n",
    "fits = [fit_hawc, fit_hess, fit_joint]\n",
    "results = [result_hawc, result_hess, result_joint]\n",
    "names = ['hawc','hess','joint']\n",
    "for fit,result,name in zip(fits,results,names):\n",
    "    gaussian_sigma = make_contours(fit,result,par1,par2,x_values,y_values)\n",
    "    file_name = name + '_' + par1 + '_' + par2 + '.npz'\n",
    "    np.savez('contoursDataFull/'+file_name,sigmas=gaussian_sigma)"
   ]
  },
  {
   "cell_type": "code",
   "execution_count": 59,
   "metadata": {},
   "outputs": [
    {
     "data": {
      "image/png": "[encoded data removed]",
      "text/plain": [
       "<Figure size 576x432 with 1 Axes>"
      ]
     },
     "metadata": {
      "needs_background": "light"
     },
     "output_type": "display_data"
    }
   ],
   "source": [
    "x_values = np.linspace(2.7, 2.9, 50)\n",
    "y_values = np.linspace(1.9e-13, 2.3e-13, 50)\n",
    "par1 = 'alpha'\n",
    "par2 = 'amplitude'\n",
    "names = ['hawc','hess','joint']\n",
    "colors = ['blue','green','red']\n",
    "x1 = 0; x2 = -1; y1 = 0; y2 = -1\n",
    "fig, ax = plt.subplots(figsize=(8, 6))\n",
    "for name, color in zip(names,colors):\n",
    "    data = np.load(\"contoursDataFull/{}_{}_{}.npz\".format(name,par1,par2))\n",
    "    data = data['sigmas']\n",
    "    data = data[y1:y2,x1:x2]\n",
    "    contours = plt.contour(data, levels=[1], colors=color)\n",
    "    #plt.clabel(contours, fmt=name, inline=3, fontsize=15)\n",
    "plt.xticks(range(len(x_values[x1:x2])), np.around(x_values[x1:x2], decimals=2), rotation=90)\n",
    "plt.yticks(range(len(y_values[y1:y2])), np.around(y_values[y1:y2]*1e13,decimals=2));\n",
    "plt.xlabel(r\"$\\alpha$\")\n",
    "plt.ylabel(r\"$\\phi_{\\rm 7 TeV} \\,/\\,(10^{-13}\\,{\\rm TeV}^{-1} \\, {\\rm cm}^{-2} {\\rm s}^{-1})$\")\n",
    "plt.savefig(\"plotsCustomEbins/contours_alpha_amplitude.png\", dpi=300, bbox_inches='tight')"
   ]
  },
  {
   "cell_type": "code",
   "execution_count": null,
   "metadata": {},
   "outputs": [],
   "source": []
  }
 ],
 "metadata": {
  "kernelspec": {
   "display_name": "Python 3",
   "language": "python",
   "name": "python3"
  },
  "language_info": {
   "codemirror_mode": {
    "name": "ipython",
    "version": 3
   },
   "file_extension": ".py",
   "mimetype": "text/x-python",
   "name": "python",
   "nbconvert_exporter": "python",
   "pygments_lexer": "ipython3",
   "version": "3.7.0"
  }
 },
 "nbformat": 4,
 "nbformat_minor": 4
}
