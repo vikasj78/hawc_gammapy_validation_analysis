{
 "cells": [
  {
   "cell_type": "code",
   "execution_count": null,
   "metadata": {},
   "outputs": [
    {
     "name": "stdout",
     "output_type": "stream",
     "text": [
      "Astropy version: 4.0.1.post1\n",
      "Gammapy version: 0.17\n"
     ]
    }
   ],
   "source": [
    "import numpy as np\n",
    "import astropy\n",
    "from astropy import units as u\n",
    "from astropy.coordinates import SkyCoord\n",
    "import gammapy\n",
    "from gammapy.data import DataStore\n",
    "from collections import OrderedDict\n",
    "print('Astropy version:', astropy.__version__)\n",
    "print('Gammapy version:', gammapy.__version__)"
   ]
  },
  {
   "cell_type": "code",
   "execution_count": 2,
   "metadata": {},
   "outputs": [],
   "source": [
    "max_offset = 2.0\n",
    "src_radius = 0.3\n",
    "config = 'std_ImPACT_fullEnclosure'"
   ]
  },
  {
   "cell_type": "code",
   "execution_count": 3,
   "metadata": {},
   "outputs": [],
   "source": [
    "e = np.logspace(-2, 2, 97) * u.TeV"
   ]
  },
  {
   "cell_type": "code",
   "execution_count": 4,
   "metadata": {},
   "outputs": [],
   "source": [
    "# Get run list\n",
    "runs = np.loadtxt('crab_hess1_above20000.lis', usecols=(0,), dtype=int)"
   ]
  },
  {
   "cell_type": "code",
   "execution_count": 5,
   "metadata": {},
   "outputs": [],
   "source": [
    "# Init DataStore\n",
    "ds = DataStore.from_dir('$HESS_DATA/hess1/{}'.format(config))\n",
    "obs_list = ds.get_observations(runs)"
   ]
  },
  {
   "cell_type": "code",
   "execution_count": 6,
   "metadata": {},
   "outputs": [],
   "source": [
    "ra_obj = 83.6333\n",
    "dec_obj = 22.0144\n",
    "target = SkyCoord(ra_obj, dec_obj, frame='icrs', unit='deg')"
   ]
  },
  {
   "cell_type": "code",
   "execution_count": 7,
   "metadata": {},
   "outputs": [
    {
     "name": "stdout",
     "output_type": "stream",
     "text": [
      "23037  offset=0.5000 deg  threshold=1.9573 TeV\n",
      "23063  offset=0.5000 deg  threshold=1.7782 TeV\n",
      "23304  offset=0.5027 deg  threshold=1.2115 TeV\n",
      "23309  offset=0.5000 deg  threshold=0.8254 TeV\n",
      "23310  offset=0.5000 deg  threshold=1.0000 TeV\n",
      "23523  offset=0.5000 deg  threshold=0.9085 TeV\n",
      "23526  offset=0.5000 deg  threshold=0.6812 TeV\n",
      "23544  offset=0.5000 deg  threshold=0.9085 TeV\n",
      "23545  offset=0.4999 deg  threshold=0.7498 TeV\n",
      "23546  offset=0.5000 deg  threshold=0.6812 TeV\n",
      "23547  offset=0.5000 deg  threshold=0.6812 TeV\n",
      "23555  offset=0.0001 deg  threshold=1.4677 TeV\n",
      "23556  offset=0.5007 deg  threshold=1.1006 TeV\n",
      "23557  offset=1.0013 deg  threshold=0.9085 TeV\n",
      "23558  offset=0.5007 deg  threshold=0.7498 TeV\n",
      "23559  offset=1.5019 deg  threshold=0.6812 TeV\n",
      "23576  offset=0.0001 deg  threshold=0.7498 TeV\n",
      "23577  offset=0.5006 deg  threshold=0.6812 TeV\n",
      "23579  offset=0.5006 deg  threshold=0.8254 TeV\n",
      "23592  offset=1.5018 deg  threshold=0.9085 TeV\n",
      "23593  offset=0.4635 deg  threshold=0.7498 TeV\n",
      "23594  offset=1.9932 deg  threshold=0.6812 TeV\n",
      "23608  offset=0.5000 deg  threshold=1.0000 TeV\n",
      "23611  offset=0.5000 deg  threshold=1.6155 TeV\n",
      "23641  offset=0.5000 deg  threshold=0.9085 TeV\n",
      "23642  offset=0.5000 deg  threshold=1.1006 TeV\n",
      "23662  offset=0.5000 deg  threshold=0.6812 TeV\n",
      "23663  offset=0.5000 deg  threshold=0.7498 TeV\n",
      "23739  offset=0.5000 deg  threshold=0.7498 TeV\n",
      "23740  offset=0.5000 deg  threshold=0.6812 TeV\n",
      "23741  offset=0.5000 deg  threshold=0.6812 TeV\n",
      "23753  offset=0.5000 deg  threshold=1.2115 TeV\n",
      "23754  offset=0.9994 deg  threshold=0.9085 TeV\n",
      "23756  offset=0.5000 deg  threshold=0.7498 TeV\n",
      "24138  offset=0.5000 deg  threshold=0.8254 TeV\n",
      "24139  offset=1.0000 deg  threshold=1.0000 TeV\n",
      "24412  offset=0.5000 deg  threshold=1.2115 TeV\n",
      "35941  offset=0.7000 deg  threshold=0.9085 TeV\n",
      "35956  offset=0.7000 deg  threshold=0.9085 TeV\n",
      "35957  offset=0.7001 deg  threshold=0.8254 TeV\n",
      "35992  offset=0.7000 deg  threshold=0.9085 TeV\n",
      "36012  offset=0.7000 deg  threshold=1.1006 TeV\n",
      "36013  offset=0.7000 deg  threshold=0.8254 TeV\n",
      "36066  offset=0.7001 deg  threshold=0.9085 TeV\n",
      "36361  offset=0.7000 deg  threshold=1.2115 TeV\n",
      "42317  offset=0.5000 deg  threshold=0.7498 TeV\n",
      "43039  offset=0.5000 deg  threshold=0.8254 TeV\n",
      "43424  offset=0.4999 deg  threshold=0.7498 TeV\n",
      "43447  offset=0.5000 deg  threshold=0.8254 TeV\n",
      "43489  offset=0.4999 deg  threshold=0.7498 TeV\n",
      "43490  offset=0.5000 deg  threshold=0.8254 TeV\n",
      "48399  offset=0.5000 deg  threshold=1.1006 TeV\n",
      "48476  offset=0.4999 deg  threshold=0.9085 TeV\n",
      "48682  offset=0.5000 deg  threshold=0.8254 TeV\n",
      "48683  offset=0.4999 deg  threshold=0.7498 TeV\n",
      "48717  offset=0.4999 deg  threshold=0.7498 TeV\n",
      "48734  offset=0.5000 deg  threshold=0.7498 TeV\n",
      "54390  offset=0.5006 deg  threshold=0.7498 TeV\n",
      "54391  offset=0.5000 deg  threshold=0.7498 TeV\n",
      "54404  offset=0.5000 deg  threshold=0.7498 TeV\n",
      "54653  offset=0.5000 deg  threshold=0.7498 TeV\n",
      "54707  offset=0.4999 deg  threshold=0.7498 TeV\n",
      "54734  offset=0.5000 deg  threshold=0.7498 TeV\n",
      "54748  offset=0.5000 deg  threshold=0.8254 TeV\n",
      "54749  offset=0.4999 deg  threshold=0.7498 TeV\n",
      "54771  offset=0.5000 deg  threshold=0.8254 TeV\n",
      "54772  offset=0.5000 deg  threshold=0.7498 TeV\n",
      "54789  offset=0.5000 deg  threshold=0.8254 TeV\n",
      "60793  offset=0.7000 deg  threshold=0.8254 TeV\n",
      "60794  offset=0.7001 deg  threshold=0.7498 TeV\n",
      "80124  offset=0.7000 deg  threshold=1.0000 TeV\n",
      "80129  offset=0.7001 deg  threshold=0.8254 TeV\n",
      "80132  offset=0.7000 deg  threshold=0.9085 TeV\n",
      "80134  offset=0.7000 deg  threshold=1.0000 TeV\n",
      "80158  offset=0.7000 deg  threshold=1.0000 TeV\n",
      "80161  offset=0.7001 deg  threshold=0.8254 TeV\n",
      "80163  offset=0.7000 deg  threshold=0.8254 TeV\n",
      "80165  offset=0.7000 deg  threshold=0.9085 TeV\n",
      "80167  offset=0.7000 deg  threshold=1.0000 TeV\n",
      "80170  offset=0.7001 deg  threshold=1.1006 TeV\n",
      "80190  offset=0.7000 deg  threshold=1.0000 TeV\n",
      "80191  offset=0.7000 deg  threshold=0.9085 TeV\n",
      "80997  offset=0.7000 deg  threshold=0.9085 TeV\n",
      "80998  offset=0.7000 deg  threshold=1.0000 TeV\n",
      "81086  offset=0.7001 deg  threshold=1.0000 TeV\n",
      "81089  offset=0.7000 deg  threshold=1.1006 TeV\n",
      "81133  offset=0.7000 deg  threshold=0.8254 TeV\n",
      "81134  offset=0.7000 deg  threshold=1.0000 TeV\n",
      "81135  offset=0.7001 deg  threshold=1.0000 TeV\n",
      "81136  offset=0.7000 deg  threshold=1.2115 TeV\n",
      "81666  offset=0.5000 deg  threshold=1.1006 TeV\n",
      "81667  offset=0.4636 deg  threshold=1.4677 TeV\n",
      "81731  offset=0.4636 deg  threshold=1.3335 TeV\n",
      "81794  offset=0.5000 deg  threshold=1.3335 TeV\n",
      "82703  offset=0.5000 deg  threshold=1.9573 TeV\n"
     ]
    }
   ],
   "source": [
    "thresholds = OrderedDict()\n",
    "for obs in obs_list:\n",
    "    # calculate offset to source position,\n",
    "    # make sure max_offset is not chosen too small\n",
    "    offset = obs.pointing_radec.separation(target)\n",
    "    thr_offset = max_offset * u.deg\n",
    "    min_offset = offset + src_radius * u.deg\n",
    "    assert thr_offset >= min_offset\n",
    "\n",
    "    # extract energy dispersion for maximum offset\n",
    "    edisp = obs.edisp.to_energy_dispersion(thr_offset, e_reco=e, e_true=e)\n",
    "    #print(edisp)\n",
    "    # determine threshold from energy dispersion\n",
    "    threshold = edisp.get_bias_energy(0.1, emax=10*u.TeV)[0]\n",
    "    #print(threshold)\n",
    "    # use lower edge of first bin above threshold\n",
    "    threshold = e[np.where(~(e[:-1]<threshold))[0][0]]\n",
    "    #print(np.where(~(e[:-1]<threshold))[0][0])\n",
    "    #print(e[28])\n",
    "    # round such that the threshold is always slightly *below* the bin edge\n",
    "    threshold = np.floor(1e4*threshold)/1e4\n",
    "\n",
    "    print(obs.obs_id, ' offset={:.4f}  threshold={:.4f}'.format(offset, threshold))\n",
    "    thresholds[obs.obs_id] = threshold.value"
   ]
  },
  {
   "cell_type": "code",
   "execution_count": 8,
   "metadata": {},
   "outputs": [],
   "source": [
    "np.savetxt('thresholds_bias_4Tel_above20000{}.txt'.format(config),\n",
    "           np.array([list(thresholds.keys()), list(thresholds.values())]).T,\n",
    "           fmt=['%d', '%.4f'], header='Run | Threshold [TeV]')"
   ]
  },
  {
   "cell_type": "code",
   "execution_count": null,
   "metadata": {},
   "outputs": [],
   "source": []
  }
 ],
 "metadata": {
  "kernelspec": {
   "display_name": "Python 3",
   "language": "python",
   "name": "python3"
  },
  "language_info": {
   "codemirror_mode": {
    "name": "ipython",
    "version": 3
   },
   "file_extension": ".py",
   "mimetype": "text/x-python",
   "name": "python",
   "nbconvert_exporter": "python",
   "pygments_lexer": "ipython3",
   "version": "3.7.0"
  }
 },
 "nbformat": 4,
 "nbformat_minor": 4
}
