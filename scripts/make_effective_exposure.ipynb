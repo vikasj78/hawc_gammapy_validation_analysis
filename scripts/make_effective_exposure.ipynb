{
 "cells": [
  {
   "cell_type": "code",
   "execution_count": 1,
   "id": "sudden-sister",
   "metadata": {},
   "outputs": [],
   "source": [
    "import matplotlib.pyplot as plt\n",
    "from gammapy.maps import WcsGeom, MapAxis, Map,HpxGeom, WcsNDMap , HpxNDMap\n",
    "import astropy.units as u\n",
    "import numpy as np"
   ]
  },
  {
   "cell_type": "code",
   "execution_count": 3,
   "id": "growing-australia",
   "metadata": {},
   "outputs": [],
   "source": [
    "which = 'GP'\n",
    "path_to_IRF = \"/lfs/l7/hess/users/nieto/hawc/gammapy/hawc-gammapy-low-level/IRFs/\"+which+\"/\"\n",
    "outdir = \"/lfs/l7/hawc/hawc-gammapy-verification/extended_source/1908_effective_exposure/\"\n",
    "exposure = 1046.387 #for J1908 from HAWC maps\n",
    "\n",
    "# make effective exposure and multiply\n",
    "for binnr in np.arange(1,10):\n",
    "        effective_area = Map.read(path_to_IRF + 'EffectiveAreaMap_bin'+str(binnr)+'_'+which+'.fits')\n",
    "        effective_exposure = effective_area.copy()\n",
    "        effective_exposure.data = exposure*effective_area.data\n",
    "        effective_exposure.meta['TELESCOP'] = \"HAWC\"\n",
    "        effective_exposure.write(f'{outdir}ExposureCorrected_EffectiveAreaMap_bin'+str(binnr)+'_'+which+'.fits', overwrite=True, hdu=\"aeff\")"
   ]
  },
  {
   "cell_type": "code",
   "execution_count": null,
   "id": "alternative-franklin",
   "metadata": {},
   "outputs": [],
   "source": []
  }
 ],
 "metadata": {
  "kernelspec": {
   "display_name": "Python 3",
   "language": "python",
   "name": "python3"
  },
  "language_info": {
   "codemirror_mode": {
    "name": "ipython",
    "version": 3
   },
   "file_extension": ".py",
   "mimetype": "text/x-python",
   "name": "python",
   "nbconvert_exporter": "python",
   "pygments_lexer": "ipython3",
   "version": "3.7.0"
  }
 },
 "nbformat": 4,
 "nbformat_minor": 5
}
